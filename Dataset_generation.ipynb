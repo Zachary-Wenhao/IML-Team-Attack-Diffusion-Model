{
  "nbformat": 4,
  "nbformat_minor": 0,
  "metadata": {
    "colab": {
      "provenance": [],
      "authorship_tag": "ABX9TyN+jNgwkdSYENAF8zOmb5M5",
      "include_colab_link": true
    },
    "kernelspec": {
      "name": "python3",
      "display_name": "Python 3"
    },
    "language_info": {
      "name": "python"
    }
  },
  "cells": [
    {
      "cell_type": "markdown",
      "metadata": {
        "id": "view-in-github",
        "colab_type": "text"
      },
      "source": [
        "<a href=\"https://colab.research.google.com/github/Zachary-Wenhao/IML-Team-Attack-Diffusion-Model/blob/data-preparation/Dataset_generation.ipynb\" target=\"_parent\"><img src=\"https://colab.research.google.com/assets/colab-badge.svg\" alt=\"Open In Colab\"/></a>"
      ]
    },
    {
      "cell_type": "code",
      "source": [
        "!pip install datasets\n",
        "!pip install numpy\n",
        "!pip install torch"
      ],
      "metadata": {
        "id": "Qa341wJgrh6_"
      },
      "execution_count": null,
      "outputs": []
    },
    {
      "cell_type": "code",
      "execution_count": 43,
      "metadata": {
        "colab": {
          "base_uri": "https://localhost:8080/"
        },
        "id": "nkSO4Rmzq4Uj",
        "outputId": "c18d71bb-4894-4791-f2cb-358a05826b9d"
      },
      "outputs": [
        {
          "output_type": "stream",
          "name": "stdout",
          "text": [
            "Dataset({\n",
            "    features: ['image', 'label'],\n",
            "    num_rows: 100000\n",
            "})\n",
            "Dataset({\n",
            "    features: ['image', 'label'],\n",
            "    num_rows: 10000\n",
            "})\n"
          ]
        }
      ],
      "source": [
        "import numpy as np\n",
        "import torch\n",
        "import PIL\n",
        "import random\n",
        "from datasets import load_dataset\n",
        "\n",
        "\n",
        "train = load_dataset(\"Maysee/tiny-imagenet\", split=\"train\")\n",
        "val = load_dataset(\"Maysee/tiny-imagenet\", split=\"valid\")\n",
        "\n",
        "print(train)\n",
        "print(val)"
      ]
    },
    {
      "cell_type": "code",
      "source": [
        "# fish class has label 0, frog class has label 3"
      ],
      "metadata": {
        "id": "jRZe45Vztm5q"
      },
      "execution_count": 13,
      "outputs": []
    },
    {
      "cell_type": "code",
      "source": [
        "from torch.utils.data import DataLoader\n",
        "from torchvision import transforms\n",
        "from torch.utils.data import Dataset\n",
        "\n",
        "class ImageNetDataset(Dataset):\n",
        "    def __init__(self, huggingface_dataset, transform=None):\n",
        "        \"\"\"\n",
        "        Args:\n",
        "            huggingface_dataset: Our ImageNet dataset from huggingface\n",
        "            transform: Potential transformation for the images\n",
        "        \"\"\"\n",
        "        self.dataset = huggingface_dataset\n",
        "        self.transform = transform\n",
        "\n",
        "    def __len__(self):\n",
        "        return len(self.dataset)\n",
        "\n",
        "    def __getitem__(self, idx):\n",
        "        image = self.dataset[idx]['image']\n",
        "        label = self.dataset[idx]['label']\n",
        "\n",
        "        # Apply the transform if specified\n",
        "        if self.transform:\n",
        "            image = self.transform(image)\n",
        "\n",
        "        return image, label\n",
        "\n",
        "\n",
        "# Example transformation function: this is for use with Vision Transformers\n",
        "transform = transforms.Compose([\n",
        "    transforms.Resize((224, 224)),\n",
        "    transforms.ToTensor(),\n",
        "    transforms.Lambda(lambda x: x.repeat(3, 1, 1) if x.size(0) == 1 else x), # apparently some images are not RGB\n",
        "    transforms.Normalize(mean=[0.485, 0.456, 0.406], std=[0.229, 0.224, 0.225])\n",
        "])\n"
      ],
      "metadata": {
        "id": "W_mLjC4L0Ij9"
      },
      "execution_count": 22,
      "outputs": []
    },
    {
      "cell_type": "code",
      "source": [
        "train_dataset = ImageNetDataset(train, transform=transform)\n",
        "train_dataloader = DataLoader(train_dataset, batch_size=32, shuffle=True)\n",
        "train_dataset = ImageNetDataset(val, transform=transform)\n",
        "train_dataloader = DataLoader(train_dataset, batch_size=32, shuffle=True)"
      ],
      "metadata": {
        "id": "9EM7Q7y12dvC"
      },
      "execution_count": 50,
      "outputs": []
    },
    {
      "cell_type": "code",
      "source": [
        "display(train['image'][0])"
      ],
      "metadata": {
        "colab": {
          "base_uri": "https://localhost:8080/",
          "height": 81
        },
        "id": "Y-PxdVyQ23ww",
        "outputId": "c520ce31-07a9-4c40-f3a1-a081808d99cb"
      },
      "execution_count": 27,
      "outputs": [
        {
          "output_type": "display_data",
          "data": {
            "text/plain": [
              "<PIL.JpegImagePlugin.JpegImageFile image mode=RGB size=64x64>"
            ],
            "image/png": "[encoded data removed]",
            "image/jpeg": "[encoded data removed]"
          },
          "metadata": {}
        }
      ]
    },
    {
      "cell_type": "code",
      "source": [
        "display(train_dataset.__getitem__(0)[0])\n",
        "print(type(train_dataset.__getitem__(0)[0]))\n",
        "print(np.array(train_dataset.__getitem__(0)[0]).shape)"
      ],
      "metadata": {
        "colab": {
          "base_uri": "https://localhost:8080/",
          "height": 451
        },
        "id": "nSTTer2J3O8u",
        "outputId": "7b971f5d-d547-4885-c675-4ec420a4bca6"
      },
      "execution_count": 42,
      "outputs": [
        {
          "output_type": "display_data",
          "data": {
            "text/plain": [
              "tensor([[[2.1119, 2.1119, 2.1119,  ..., 2.2318, 2.2318, 2.2318],\n",
              "         [2.1119, 2.1119, 2.1119,  ..., 2.2318, 2.2318, 2.2318],\n",
              "         [2.1290, 2.1290, 2.1290,  ..., 2.2318, 2.2318, 2.2318],\n",
              "         ...,\n",
              "         [2.0434, 2.0434, 2.0263,  ..., 2.1633, 2.1462, 2.1462],\n",
              "         [2.0263, 2.0263, 2.0092,  ..., 2.1975, 2.1975, 2.1975],\n",
              "         [2.0263, 2.0263, 2.0092,  ..., 2.1975, 2.1975, 2.1975]],\n",
              "\n",
              "        [[2.3936, 2.3936, 2.3936,  ..., 2.4111, 2.4111, 2.4111],\n",
              "         [2.3936, 2.3936, 2.3936,  ..., 2.4111, 2.4111, 2.4111],\n",
              "         [2.3936, 2.3936, 2.3936,  ..., 2.4111, 2.4111, 2.4111],\n",
              "         ...,\n",
              "         [2.4286, 2.4286, 2.4286,  ..., 2.3936, 2.3761, 2.3761],\n",
              "         [2.4286, 2.4286, 2.4286,  ..., 2.4286, 2.4286, 2.4286],\n",
              "         [2.4286, 2.4286, 2.4286,  ..., 2.4286, 2.4286, 2.4286]],\n",
              "\n",
              "        [[2.5703, 2.5703, 2.5703,  ..., 2.6226, 2.6226, 2.6226],\n",
              "         [2.5703, 2.5703, 2.5703,  ..., 2.6226, 2.6226, 2.6226],\n",
              "         [2.5877, 2.5877, 2.5877,  ..., 2.6226, 2.6226, 2.6226],\n",
              "         ...,\n",
              "         [2.6400, 2.6400, 2.6400,  ..., 2.6400, 2.6226, 2.6226],\n",
              "         [2.6400, 2.6400, 2.6400,  ..., 2.6400, 2.6400, 2.6400],\n",
              "         [2.6400, 2.6400, 2.6400,  ..., 2.6400, 2.6400, 2.6400]]])"
            ]
          },
          "metadata": {}
        },
        {
          "output_type": "stream",
          "name": "stdout",
          "text": [
            "<class 'torch.Tensor'>\n",
            "(3, 224, 224)\n"
          ]
        }
      ]
    },
    {
      "cell_type": "code",
      "source": [
        "def attack(classifier, image, label, adv_image, steps, check_point):\n",
        "  #assumes that classifier correctly classifies image at beginning\n",
        "  '''classifier is pretrained imagenet classifier, image is clean input,\n",
        "  adv_image is random image from other class, label is is correct label of image,\n",
        "  steps is max # of swaps, checkpoint is check output every X steps\n",
        "  This outputs the corrupted image'''\n",
        "\n",
        "  classifier.eval()\n",
        "  image_array = np.array(image)\n",
        "  adv_array = np.array(adv_image)\n",
        "\n",
        "  channel, width, height = image_array.shape\n",
        "  #every check_point swaps check if it classifies it correctly\n",
        "  for i in range(steps):\n",
        "    if steps % check_point == 0:\n",
        "      if classifier(adv_image) != label:\n",
        "        noised_image = adv_image\n",
        "        print(f'Step {i}, we fooled classifier.')\n",
        "        return image_array\n",
        "      else:\n",
        "        print(f'Step {i}, not yet fooled.')\n",
        "      random_x = random.randint(0, height - 1)\n",
        "      random_y = random.randint(0, width - 1)\n",
        "    image_array[:, random_x, random_y] = (\n",
        "    adv_array[:, random_x, random_y])\n",
        "\n",
        "  #all steps done, not fooled\n",
        "  print(f'After {steps} steps, not fooled.')\n",
        "  return image_array # numpy array\n",
        "\n",
        "\n",
        "\n",
        "\n"
      ],
      "metadata": {
        "id": "rXdWvuR4xfs5"
      },
      "execution_count": 44,
      "outputs": []
    },
    {
      "cell_type": "code",
      "source": [],
      "metadata": {
        "id": "erGeM9d86DLO"
      },
      "execution_count": null,
      "outputs": []
    }
  ]
}